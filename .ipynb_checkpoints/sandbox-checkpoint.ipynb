{
 "cells": [
  {
   "cell_type": "code",
   "execution_count": 2,
   "metadata": {
    "collapsed": false,
    "scrolled": true
   },
   "outputs": [],
   "source": [
    "# Useful starting lines\n",
    "%matplotlib inline\n",
    "import numpy as np\n",
    "import pandas as pd\n",
    "import matplotlib.pyplot as plt\n",
    "%load_ext autoreload\n",
    "%autoreload 2"
   ]
  },
  {
   "cell_type": "code",
   "execution_count": 6,
   "metadata": {
    "collapsed": false
   },
   "outputs": [
    {
     "name": "stdout",
     "output_type": "stream",
     "text": [
      "['0', '1', '2', '3', '4', '5', '6', '7', '8', '9', '10', '11', '12', '13', '14', '15', '16', '17', '18', '19', '20', '21', '22', '23', '24', '25', '26', '27', '28']\n",
      "[' 49', ' 50', ' 83', ' 83', ' 78', ' 83', ' 85', ' 78', ' 85', ' 80', ' 74', ' 78', ' 76', ' 71', ' 71', ' 68', ' 57', ' 51', ' 52', ' 56', ' 52', ' 56', ' 52', ' 53', ' 51', ' 5', ' 4', ' 5', ' 4']\n"
     ]
    }
   ],
   "source": [
    "import csv\n",
    "epoch = []\n",
    "acc = []\n",
    "loss = []\n",
    "\n",
    "with open(\"temp/accuracy 25_04.csv\") as f:\n",
    "    reader = csv.reader(f)\n",
    "    i = 0\n",
    "    for l in reader:\n",
    "        if(i!=0):\n",
    "            epoch.append(l.pop(0))\n",
    "            acc.append(l.pop(0))\n",
    "            loss.append(l.pop(0))\n",
    "        i = i+1\n",
    "print(epoch)\n",
    "print(acc)"
   ]
  },
  {
   "cell_type": "code",
   "execution_count": 20,
   "metadata": {
    "collapsed": false,
    "scrolled": true
   },
   "outputs": [
    {
     "data": {
      "text/plain": [
       "<matplotlib.text.Text at 0x274426e05c0>"
      ]
     },
     "execution_count": 20,
     "metadata": {},
     "output_type": "execute_result"
    },
    {
     "data": {
      "image/png": "[encoded data removed]",
      "text/plain": [
       "<matplotlib.figure.Figure at 0x2744250f518>"
      ]
     },
     "metadata": {},
     "output_type": "display_data"
    }
   ],
   "source": [
    "plt.figure()\n",
    "plt.subplot(211)\n",
    "plt.plot(epoch, acc)\n",
    "plt.ylabel(\"accuracy on test set\")\n",
    "plt.xlabel(\"epoch number\")\n",
    "plt.subplot(212)\n",
    "plt.plot(epoch, loss)\n",
    "plt.ylabel(\"training loss\")\n",
    "plt.xlabel(\"epoch number\")\n",
    "plt.title(\"Evolution of training loss & accuracy\")\n"
   ]
  },
  {
   "cell_type": "code",
   "execution_count": null,
   "metadata": {
    "collapsed": false
   },
   "outputs": [],
   "source": []
  },
  {
   "cell_type": "code",
   "execution_count": null,
   "metadata": {
    "collapsed": false,
    "scrolled": true
   },
   "outputs": [],
   "source": []
  },
  {
   "cell_type": "code",
   "execution_count": null,
   "metadata": {
    "collapsed": false
   },
   "outputs": [],
   "source": []
  }
 ],
 "metadata": {
  "anaconda-cloud": {},
  "kernelspec": {
   "display_name": "Python 3",
   "language": "python",
   "name": "python3"
  },
  "language_info": {
   "codemirror_mode": {
    "name": "ipython",
    "version": 3
   },
   "file_extension": ".py",
   "mimetype": "text/x-python",
   "name": "python",
   "nbconvert_exporter": "python",
   "pygments_lexer": "ipython3",
   "version": "3.6.0"
  }
 },
 "nbformat": 4,
 "nbformat_minor": 0
}
