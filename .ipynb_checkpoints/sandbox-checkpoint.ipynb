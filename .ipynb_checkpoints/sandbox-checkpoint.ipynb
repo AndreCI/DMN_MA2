{
 "cells": [
  {
   "cell_type": "code",
   "execution_count": 37,
   "metadata": {
    "collapsed": false,
    "scrolled": true
   },
   "outputs": [
    {
     "name": "stdout",
     "output_type": "stream",
     "text": [
      "The autoreload extension is already loaded. To reload it, use:\n",
      "  %reload_ext autoreload\n"
     ]
    }
   ],
   "source": [
    "# Useful starting lines\n",
    "%matplotlib inline\n",
    "import numpy as np\n",
    "import pandas as pd\n",
    "import matplotlib.pyplot as plt\n",
    "import os\n",
    "%load_ext autoreload\n",
    "%autoreload 2"
   ]
  },
  {
   "cell_type": "code",
   "execution_count": 356,
   "metadata": {
    "collapsed": false
   },
   "outputs": [
    {
     "name": "stdout",
     "output_type": "stream",
     "text": [
      "(6,)\n",
      "(12,)\n",
      "(12,)\n",
      "(12,)\n",
      "(12,)\n",
      "(12,)\n",
      "(6,)\n"
     ]
    },
    {
     "ename": "IndexError",
     "evalue": "list index out of range",
     "output_type": "error",
     "traceback": [
      "\u001b[0;31m---------------------------------------------------------------------------\u001b[0m",
      "\u001b[0;31mIndexError\u001b[0m                                Traceback (most recent call last)",
      "\u001b[0;32m<ipython-input-356-964ec4aa0466>\u001b[0m in \u001b[0;36m<module>\u001b[0;34m()\u001b[0m\n\u001b[1;32m     23\u001b[0m \u001b[0mtrain_epoch\u001b[0m\u001b[1;33m,\u001b[0m \u001b[0mtrain_avg_acc\u001b[0m\u001b[1;33m,\u001b[0m \u001b[0mtrain_avg_loss\u001b[0m\u001b[1;33m,\u001b[0m \u001b[0mtrain_avg_indi_acc\u001b[0m\u001b[1;33m,\u001b[0m \u001b[0mtrain_avg_hard_acc\u001b[0m\u001b[1;33m,\u001b[0m \u001b[0mtest_epoch\u001b[0m\u001b[1;33m,\u001b[0m \u001b[0mtest_avg_acc\u001b[0m\u001b[1;33m,\u001b[0m \u001b[0mtest_avg_loss\u001b[0m\u001b[1;33m,\u001b[0m \u001b[0mtest_avg_indi_acc\u001b[0m\u001b[1;33m,\u001b[0m \u001b[0mtest_avg_hard_acc\u001b[0m \u001b[1;33m=\u001b[0m \u001b[0mcreate_data\u001b[0m\u001b[1;33m(\u001b[0m\u001b[0mfname\u001b[0m\u001b[1;33m,\u001b[0m \u001b[0mend_data\u001b[0m\u001b[1;33m,\u001b[0m\u001b[0mis_10K\u001b[0m\u001b[1;33m,\u001b[0m \u001b[0msmooth_nbr\u001b[0m\u001b[1;33m=\u001b[0m\u001b[0msmooth_nbr\u001b[0m\u001b[1;33m)\u001b[0m\u001b[1;33m\u001b[0m\u001b[0m\n\u001b[1;32m     24\u001b[0m \u001b[1;33m\u001b[0m\u001b[0m\n\u001b[0;32m---> 25\u001b[0;31m \u001b[0mcreate_indi_figure\u001b[0m\u001b[1;33m(\u001b[0m\u001b[1;33m[\u001b[0m\u001b[1;36m6\u001b[0m\u001b[1;33m]\u001b[0m\u001b[1;33m,\u001b[0m \u001b[0mtrain_epoch\u001b[0m\u001b[1;33m,\u001b[0m \u001b[0mtrain_avg_indi_acc\u001b[0m\u001b[1;33m,\u001b[0m\u001b[0mtest_avg_indi_acc\u001b[0m\u001b[1;33m,\u001b[0m \u001b[0mfigure_name\u001b[0m\u001b[1;33m,\u001b[0m \u001b[0mis_10K\u001b[0m\u001b[1;33m,\u001b[0m \u001b[0msmooth_nbr\u001b[0m\u001b[1;33m,\u001b[0m \u001b[0mtesting_only\u001b[0m\u001b[1;33m=\u001b[0m\u001b[1;32mTrue\u001b[0m\u001b[1;33m)\u001b[0m\u001b[1;33m\u001b[0m\u001b[0m\n\u001b[0m\u001b[1;32m     26\u001b[0m \u001b[1;31m#create_figure(train_epoch, train_avg_acc, train_avg_loss, train_avg_hard_acc, test_epoch, test_avg_acc, test_avg_loss, test_avg_hard_acc,name=figure_name, is_10K=is_10K)\u001b[0m\u001b[1;33m\u001b[0m\u001b[1;33m\u001b[0m\u001b[0m\n",
      "\u001b[0;32m<ipython-input-355-e258b4156128>\u001b[0m in \u001b[0;36mcreate_indi_figure\u001b[0;34m(idx_to_create, train_epoch, train_indi_acc, test_indi_acc, name, is_10k, smooth_nbr, testing_only)\u001b[0m\n\u001b[1;32m     10\u001b[0m             \u001b[0mplt\u001b[0m\u001b[1;33m.\u001b[0m\u001b[0mplot\u001b[0m\u001b[1;33m(\u001b[0m\u001b[0mtrain_epoch\u001b[0m\u001b[1;33m,\u001b[0m \u001b[0mtemp\u001b[0m\u001b[1;33m,\u001b[0m \u001b[0mlabel\u001b[0m\u001b[1;33m=\u001b[0m\u001b[0mtlabel\u001b[0m\u001b[1;33m)\u001b[0m\u001b[1;33m\u001b[0m\u001b[0m\n\u001b[1;32m     11\u001b[0m         \u001b[0mtlabel\u001b[0m \u001b[1;33m=\u001b[0m \u001b[0mstr\u001b[0m\u001b[1;33m(\u001b[0m\u001b[1;34m\"testing accuracy, idx %s\"\u001b[0m \u001b[1;33m%\u001b[0m\u001b[0ma\u001b[0m\u001b[1;33m)\u001b[0m\u001b[1;33m\u001b[0m\u001b[0m\n\u001b[0;32m---> 12\u001b[0;31m         \u001b[0mtemp\u001b[0m \u001b[1;33m=\u001b[0m \u001b[0mextract_data_from_indi\u001b[0m\u001b[1;33m(\u001b[0m\u001b[0mtest_indi_acc\u001b[0m\u001b[1;33m,\u001b[0m \u001b[0ma\u001b[0m\u001b[1;33m)\u001b[0m\u001b[1;33m\u001b[0m\u001b[0m\n\u001b[0m\u001b[1;32m     13\u001b[0m         \u001b[0mplt\u001b[0m\u001b[1;33m.\u001b[0m\u001b[0mplot\u001b[0m\u001b[1;33m(\u001b[0m\u001b[0mtrain_epoch\u001b[0m\u001b[1;33m,\u001b[0m\u001b[0mtemp\u001b[0m\u001b[1;33m,\u001b[0m \u001b[0mlabel\u001b[0m\u001b[1;33m=\u001b[0m\u001b[0mtlabel\u001b[0m\u001b[1;33m)\u001b[0m\u001b[1;33m\u001b[0m\u001b[0m\n\u001b[1;32m     14\u001b[0m     \u001b[0mplt\u001b[0m\u001b[1;33m.\u001b[0m\u001b[0mlegend\u001b[0m\u001b[1;33m(\u001b[0m\u001b[1;33m)\u001b[0m\u001b[1;33m\u001b[0m\u001b[0m\n",
      "\u001b[0;32m<ipython-input-355-e258b4156128>\u001b[0m in \u001b[0;36mextract_data_from_indi\u001b[0;34m(indi_list, idx)\u001b[0m\n\u001b[1;32m     27\u001b[0m     \u001b[1;32mfor\u001b[0m \u001b[0mi\u001b[0m \u001b[1;32min\u001b[0m \u001b[0mrange\u001b[0m\u001b[1;33m(\u001b[0m\u001b[1;36m0\u001b[0m\u001b[1;33m,\u001b[0m \u001b[0mnp\u001b[0m\u001b[1;33m.\u001b[0m\u001b[0mshape\u001b[0m\u001b[1;33m(\u001b[0m\u001b[0mindi_list\u001b[0m\u001b[1;33m)\u001b[0m\u001b[1;33m[\u001b[0m\u001b[1;36m0\u001b[0m\u001b[1;33m]\u001b[0m\u001b[1;33m)\u001b[0m\u001b[1;33m:\u001b[0m\u001b[1;33m\u001b[0m\u001b[0m\n\u001b[1;32m     28\u001b[0m         \u001b[0mprint\u001b[0m\u001b[1;33m(\u001b[0m\u001b[0mnp\u001b[0m\u001b[1;33m.\u001b[0m\u001b[0mshape\u001b[0m\u001b[1;33m(\u001b[0m\u001b[0mindi_list\u001b[0m\u001b[1;33m[\u001b[0m\u001b[0mi\u001b[0m\u001b[1;33m]\u001b[0m\u001b[1;33m)\u001b[0m\u001b[1;33m)\u001b[0m\u001b[1;33m\u001b[0m\u001b[0m\n\u001b[0;32m---> 29\u001b[0;31m         \u001b[0mtemp\u001b[0m\u001b[1;33m.\u001b[0m\u001b[0mappend\u001b[0m\u001b[1;33m(\u001b[0m\u001b[0mindi_list\u001b[0m\u001b[1;33m[\u001b[0m\u001b[0mi\u001b[0m\u001b[1;33m]\u001b[0m\u001b[1;33m[\u001b[0m\u001b[0midx\u001b[0m\u001b[1;33m]\u001b[0m\u001b[1;33m)\u001b[0m\u001b[1;33m\u001b[0m\u001b[0m\n\u001b[0m\u001b[1;32m     30\u001b[0m     \u001b[0mtemp\u001b[0m \u001b[1;33m=\u001b[0m \u001b[0msmoother\u001b[0m\u001b[1;33m(\u001b[0m\u001b[0mtemp\u001b[0m\u001b[1;33m,\u001b[0m \u001b[0msmooth_nbr\u001b[0m\u001b[1;33m)\u001b[0m\u001b[1;33m[\u001b[0m\u001b[1;33m:\u001b[0m\u001b[0mlen\u001b[0m\u001b[1;33m(\u001b[0m\u001b[0mtemp\u001b[0m\u001b[1;33m)\u001b[0m \u001b[1;33m-\u001b[0m \u001b[0msmooth_nbr\u001b[0m\u001b[1;33m]\u001b[0m\u001b[1;33m\u001b[0m\u001b[0m\n\u001b[1;32m     31\u001b[0m     \u001b[1;32mreturn\u001b[0m \u001b[0mtemp\u001b[0m\u001b[1;33m\u001b[0m\u001b[0m\n",
      "\u001b[0;31mIndexError\u001b[0m: list index out of range"
     ]
    },
    {
     "data": {
      "text/plain": [
       "<matplotlib.figure.Figure at 0x24a3ed81ac8>"
      ]
     },
     "metadata": {},
     "output_type": "display_data"
    },
    {
     "data": {
      "text/plain": [
       "<matplotlib.figure.Figure at 0x24a3ed81780>"
      ]
     },
     "metadata": {},
     "output_type": "display_data"
    }
   ],
   "source": [
    "end_data = 34\n",
    "is_10K = False\n",
    "babi_task = 3\n",
    "fname = '3_metadata_stat_extract_1k_original_mdmn_1'\n",
    "smooth_nbr = 1\n",
    "figure_name=('Final_basic_1k_%ssm_%sbt' %(smooth_nbr, babi_task))\n",
    "train_epoch = []\n",
    "train_cu_loss = []\n",
    "train_avg_loss = []\n",
    "train_cu_acc = []\n",
    "train_avg_acc = []\n",
    "train_avg_hard_acc = []\n",
    "train_avg_indi_acc = []\n",
    "\n",
    "test_epoch = []\n",
    "test_cu_loss = []\n",
    "test_avg_loss = []\n",
    "test_cu_acc = []\n",
    "test_avg_acc = []\n",
    "test_avg_hard_acc = []\n",
    "test_avg_indi_acc = []\n",
    "\n",
    "train_epoch, train_avg_acc, train_avg_loss, train_avg_indi_acc, train_avg_hard_acc, test_epoch, test_avg_acc, test_avg_loss, test_avg_indi_acc, test_avg_hard_acc = create_data(fname, end_data,is_10K, smooth_nbr=smooth_nbr)\n",
    "\n",
    "create_indi_figure([6], train_epoch, train_avg_indi_acc,test_avg_indi_acc, figure_name, is_10K, smooth_nbr, testing_only=True)\n",
    "#create_figure(train_epoch, train_avg_acc, train_avg_loss, train_avg_hard_acc, test_epoch, test_avg_acc, test_avg_loss, test_avg_hard_acc,name=figure_name, is_10K=is_10K)"
   ]
  },
  {
   "cell_type": "code",
   "execution_count": 346,
   "metadata": {
    "collapsed": false
   },
   "outputs": [],
   "source": [
    "def extract_indi_resuts(li):\n",
    "    \n",
    "    final_l = []\n",
    "    t = li.split(\" \")\n",
    "    for i in range(0, np.shape(t)[0]):\n",
    "        if(\".\" in t[i]):\n",
    "            if(\"]\" in t[i]):\n",
    "                t[i] = t[i][:len(t[i]) - 1]\n",
    "            temp = float(t[i])\n",
    "            final_l.append(temp)\n",
    "    return final_l\n",
    "    \n",
    "\n",
    "def extract_results(fname, end_data_data, is_10k):\n",
    "    train_hard_acc1 = []\n",
    "    train_hard_acc2 = []\n",
    "    \n",
    "    test_hard_acc1 = []\n",
    "    test_hard_acc2 = []\n",
    "    prev_e = 0\n",
    "    prev_t = 0\n",
    "    \n",
    "    if(is_10K):\n",
    "        duplicate = 10\n",
    "    else:\n",
    "        duplicate = 1\n",
    "    train_name = (('EDMN-theano/output_data/train_babi%s.csv' %fname))\n",
    "    test_name = (('EDMN-theano/output_data/test_babi%s.csv' %fname))\n",
    "    with open(train_name) as f:\n",
    "        reader = csv.reader(f)\n",
    "        hard_acc_avg = 0.0\n",
    "        i=0\n",
    "        for l in reader:\n",
    "            i = i + 1\n",
    "            if(len(l)>=6):\n",
    "                e = float(l.pop(0)) #epoch_nbr\n",
    "                if(e!=prev_e):\n",
    "                    hard_acc_avg = 0\n",
    "                prev_e = e\n",
    "                \n",
    "                if(e<=end_data):# and i%10==0):\n",
    "                    step_nbr = float(l.pop(0)) #step-nbr\n",
    "                    mul_fact = 1000\n",
    "                    if(is_10K):\n",
    "                        mul_fact = 10000\n",
    "                    train_epoch.append(e*mul_fact + step_nbr)\n",
    "                    train_cu_loss.append(l.pop(0)) #current_loss\n",
    "                    avg_l = float(l.pop(0)) #avg_loss\n",
    "                    train_avg_loss.append(avg_l)\n",
    "                    soft_cu_acc = float(l.pop(0)) #current_acc\n",
    "                    train_cu_acc.append(soft_cu_acc) #softacc_cu\n",
    "                    train_avg_acc.append(l.pop(0)) #avg_soft_acc\n",
    "                    train_hard_acc1.append(float(l.pop(0))) #normally hard_acc but...\n",
    "                    if(train_cu_acc[-1]==1):\n",
    "                        hard_acc_avg += 1.0\n",
    "                    train_hard_acc2.append(hard_acc_avg/(step_nbr + 1))\n",
    "                    train_avg_indi_acc.append(extract_indi_resuts(l.pop())) #indi results, tab\n",
    "                    \n",
    "    temp = np.zeros(np.shape(train_hard_acc1))\n",
    "    temp = temp == train_hard_acc1\n",
    "    if(False in temp):\n",
    "        train_avg_hard_acc = train_hard_acc1\n",
    "    else:\n",
    "        train_avg_hard_acc = train_hard_acc2\n",
    "        print(\"training: no hard acc found. Using safe calculated one!\")\n",
    "\n",
    "    with open(test_name) as f:\n",
    "        reader = csv.reader(f)\n",
    "        hard_acc_avg_t = 0.0\n",
    "        counter = 1\n",
    "        for l in reader:\n",
    "            if(len(l)>=6):\n",
    "                t = float(l.pop(0))#epoch_nbr\n",
    "                if(t!=prev_t):\n",
    "                    hard_acc_avg_t = 0\n",
    "                prev_t = t\n",
    "                if(t<=end_data):\n",
    "                    temp = []\n",
    "                    temp.append(l.pop(0)) #step nbr\n",
    "                    temp.append(l.pop(0)) #currentloss\n",
    "                    temp.append(l.pop(0)) #avg_loss\n",
    "                    temp.append(l.pop(0)) #current acc\n",
    "                    temp.append(l.pop(0)) #avg acc\n",
    "                    temp.append(l.pop(0)) #hard acc but ...\n",
    "                    temp.append(l.pop(0)) #indi acc\n",
    "                    if(float(temp[3])==1):\n",
    "                        hard_acc_avg_t+=1.0\n",
    "                    hardacc_temp = hard_acc_avg_t/(float(temp[0]) + 1)\n",
    "                    counter = counter + 1\n",
    "\n",
    "                    for i in range(0,duplicate):\n",
    "                        test_epoch.append(t*mul_fact + float(temp[0]))\n",
    "                        test_cu_loss.append(temp[1])\n",
    "                        test_avg_loss.append(temp[2])\n",
    "                        test_cu_acc.append(float(temp[3]))\n",
    "                        test_avg_acc.append(temp[4])\n",
    "                        test_hard_acc1.append(float(temp[5]))#/(float(temp[0]) + 1))\n",
    "                        test_hard_acc2.append(hardacc_temp)\n",
    "                       \n",
    "                        test_avg_indi_acc.append(extract_indi_resuts(temp[6]))\n",
    "    temp = np.zeros(np.shape(test_hard_acc1))\n",
    "    temp = temp == test_hard_acc1\n",
    "    if(False in temp):\n",
    "        test_avg_hard_acc = test_hard_acc1\n",
    "    else:\n",
    "        test_avg_hard_acc = test_hard_acc2\n",
    "        print(\"testing: no hard acc found. Using safe calculated one!\")\n",
    "\n",
    "    return train_epoch, train_avg_acc, train_avg_loss, train_avg_indi_acc, train_avg_hard_acc, test_epoch, test_avg_acc, test_avg_loss, test_avg_indi_acc, test_avg_hard_acc"
   ]
  },
  {
   "cell_type": "code",
   "execution_count": 222,
   "metadata": {
    "collapsed": false
   },
   "outputs": [],
   "source": [
    "import csv\n",
    "def create_data(fname, end_data,is_10k, smooth_nbr=1):\n",
    "\n",
    "    train_epoch, train_avg_acc, train_avg_loss, train_avg_indi_acc, train_avg_hard_acc, test_epoch, test_avg_acc, test_avg_loss, test_avg_indi_acc, test_avg_hard_acc = extract_results(fname, end_data, is_10K)\n",
    "    \n",
    "    test_avg_acc = test_avg_acc[0:len(train_avg_acc)]\n",
    "    test_avg_loss = test_avg_loss[0:len(train_avg_loss)]\n",
    "\n",
    "    train_avg_acc = smoother(train_avg_acc, smooth_nbr)[:len(train_avg_acc) - smooth_nbr]\n",
    "    test_avg_acc = smoother(test_avg_acc, smooth_nbr)[:len(test_avg_acc) - smooth_nbr]\n",
    "    train_avg_loss = smoother(train_avg_loss, smooth_nbr)[:len(train_avg_loss) - smooth_nbr]\n",
    "    test_avg_loss = smoother(test_avg_loss, smooth_nbr)[:len(test_avg_loss) - smooth_nbr]\n",
    "    train_avg_hard_acc = smoother(train_avg_hard_acc, smooth_nbr)[:len(train_avg_hard_acc) - smooth_nbr]\n",
    "    test_avg_hard_acc = smoother(test_avg_hard_acc, smooth_nbr)[:len(test_avg_hard_acc) - smooth_nbr]\n",
    "    \n",
    "    train_epoch = train_epoch[:len(train_epoch) - smooth_nbr]\n",
    "        \n",
    "\n",
    "    return train_epoch, train_avg_acc, train_avg_loss, train_avg_indi_acc, train_avg_hard_acc, test_epoch, test_avg_acc, test_avg_loss, test_avg_indi_acc, test_avg_hard_acc"
   ]
  },
  {
   "cell_type": "code",
   "execution_count": 299,
   "metadata": {
    "collapsed": false
   },
   "outputs": [],
   "source": [
    "def create_figure(train_epoch, train_avg_acc, train_avg_loss, train_hard_acc, test_epoch, test_avg_acc, test_avg_loss, test_hard_acc, name='', is_10K=False):\n",
    "    plt.figure()\n",
    "    plt.figure(figsize=(6,2))\n",
    "    plt.plot(train_epoch, train_avg_acc, label=\"training soft-accuracy\")\n",
    "    plt.plot(train_epoch, test_avg_acc, label=\"testing soft-accuracy\")\n",
    "    plt.legend()\n",
    "    plt.xlabel(\"step number\")\n",
    "    plt.ylabel(\"average hard-accuracy\")\n",
    "    if(is_10K):\n",
    "        plt.title(\"Evolution of training and testing accuracy over time (10k)\")\n",
    "    else:\n",
    "        plt.title(\"Evolution of training and testing accuracy over time\")\n",
    "    temp = ('results/avg_acc_%s.jpg' %name)\n",
    "    #\n",
    "    plt.draw()\n",
    "    plt.savefig(temp)\n",
    "\n",
    "    plt.figure()\n",
    "    plt.figure(figsize=(6,2))\n",
    "    plt.plot(train_epoch, train_hard_acc, label=\"training hard-accuracy\")\n",
    "    plt.plot(train_epoch, test_hard_acc, label=\"testing hard-accuracy\")\n",
    "    plt.legend()\n",
    "    plt.xlabel(\"step number\")\n",
    "    plt.ylabel(\"average hard-accuracy\")\n",
    "    if(is_10K):\n",
    "        plt.title(\"Evolution of training and testing accuracy over time (10k)\")\n",
    "    else:\n",
    "        plt.title(\"Evolution of training and testing accuracy over time\")\n",
    "    temp = ('results/avg_hard-acc_%s.jpg' %name)\n",
    "    #plt.figure(figsize=(6,2))\n",
    "    plt.draw()\n",
    "    plt.savefig(temp)\n",
    "\n",
    "    plt.figure()\n",
    "    plt.figure(figsize=(6,2))\n",
    "    plt.plot(train_epoch, train_avg_loss, label=\"training loss\")\n",
    "    plt.plot(train_epoch, test_avg_loss, label=\"testing loss\")\n",
    "    plt.legend()\n",
    "    plt.xlabel(\"step number\")\n",
    "    plt.ylabel(\"average loss\")\n",
    "    if(is_10K):\n",
    "        plt.title(\"Evolution of training and testing loss over time (10k)\")\n",
    "    else:\n",
    "        plt.title(\"Evolution of training and testing loss over time\")\n",
    "    temp = ('results/avg_loss_%s.jpg' %name)\n",
    "    #plt.figure(figsize=(6,2))\n",
    "    plt.draw()\n",
    "    plt.savefig(temp)"
   ]
  },
  {
   "cell_type": "code",
   "execution_count": 8,
   "metadata": {
    "collapsed": false,
    "scrolled": true
   },
   "outputs": [],
   "source": [
    "def smoother(l, nbr=2):\n",
    "    new_l = l\n",
    "    for i in range(0,np.shape(l)[0]-nbr+1):\n",
    "        new_l[i] = float(l[i])\n",
    "        for j in range(1, nbr):\n",
    "            new_l[i] = new_l[i] + float(l[i+j])\n",
    "        new_l[i] = new_l[i]/nbr\n",
    "    return new_l"
   ]
  },
  {
   "cell_type": "code",
   "execution_count": 355,
   "metadata": {
    "collapsed": false
   },
   "outputs": [],
   "source": [
    "def create_indi_figure(idx_to_create, train_epoch, train_indi_acc, test_indi_acc, name, is_10k, smooth_nbr, testing_only=False):\n",
    "    \n",
    "    plt.figure()\n",
    "    plt.figure(figsize=(6,2))\n",
    "    for a in idx_to_create:\n",
    "        if(not testing_only):\n",
    "            tlabel = str(\"training accuracy, idx %s\" %a)\n",
    "            temp = extract_data_from_indi(train_indi_acc, a)\n",
    "            plt.plot(train_epoch, temp, label=tlabel)\n",
    "        tlabel = str(\"testing accuracy, idx %s\" %a)\n",
    "        temp = extract_data_from_indi(test_indi_acc, a)\n",
    "        plt.plot(train_epoch,temp, label=tlabel)\n",
    "    plt.legend()\n",
    "    plt.xlabel(\"step number\")\n",
    "    plt.ylabel(\"average accuracy\")\n",
    "    if(is_10K):\n",
    "        plt.title(\"Evolution of training and testing accuracy over time (10k)\")\n",
    "    else:\n",
    "        plt.title(\"Evolution of training and testing accuracy over time\")\n",
    "    #plt.label(loc = 'lower right')\n",
    "    temp = ('results/avg_indi_acc_%s_%s.jpg' %(name, idx_to_create))\n",
    "    plt.savefig(temp)\n",
    "    \n",
    "def extract_data_from_indi(indi_list, idx):\n",
    "    temp = []\n",
    "    for i in range(0, np.shape(indi_list)[0]):\n",
    "        temp.append(indi_list[i][idx])\n",
    "    temp = smoother(temp, smooth_nbr)[:len(temp) - smooth_nbr]\n",
    "    return temp"
   ]
  },
  {
   "cell_type": "code",
   "execution_count": null,
   "metadata": {
    "collapsed": false,
    "scrolled": true
   },
   "outputs": [],
   "source": []
  },
  {
   "cell_type": "code",
   "execution_count": null,
   "metadata": {
    "collapsed": false
   },
   "outputs": [],
   "source": []
  }
 ],
 "metadata": {
  "anaconda-cloud": {},
  "kernelspec": {
   "display_name": "Python 3",
   "language": "python",
   "name": "python3"
  },
  "language_info": {
   "codemirror_mode": {
    "name": "ipython",
    "version": 3
   },
   "file_extension": ".py",
   "mimetype": "text/x-python",
   "name": "python",
   "nbconvert_exporter": "python",
   "pygments_lexer": "ipython3",
   "version": "3.6.0"
  }
 },
 "nbformat": 4,
 "nbformat_minor": 0
}
