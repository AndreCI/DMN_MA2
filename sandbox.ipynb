{
 "cells": [
  {
   "cell_type": "code",
   "execution_count": 10,
   "metadata": {
    "collapsed": false,
    "scrolled": true
   },
   "outputs": [],
   "source": [
    "# Useful starting lines\n",
    "%matplotlib inline\n",
    "import numpy as np\n",
    "import pandas as pd\n",
    "import matplotlib.pyplot as plt\n",
    "import os\n",
    "%load_ext autoreload\n",
    "%autoreload 2"
   ]
  },
  {
   "cell_type": "code",
   "execution_count": null,
   "metadata": {
    "collapsed": false
   },
   "outputs": [],
   "source": [
    "end_data = 5\n",
    "is_10K = False\n",
    "fname = '1_metadata_stat_extract_3'\n",
    "smooth_nbr = 1\n",
    "figure_name=('basic_mode_new_%s' %smooth_nbr)\n",
    "train_epoch = []\n",
    "train_cu_loss = []\n",
    "train_avg_loss = []\n",
    "train_cu_acc = []\n",
    "train_avg_acc = []\n",
    "train_avg_hard_acc = []\n",
    "train_avg_indi_acc = []\n",
    "\n",
    "test_epoch = []\n",
    "test_cu_loss = []\n",
    "test_avg_loss = []\n",
    "test_cu_acc = []\n",
    "test_avg_acc = []\n",
    "test_avg_hard_acc = []\n",
    "test_avg_indi_acc = []\n",
    "\n",
    "train_epoch, train_avg_acc, train_avg_loss, train_avg_indi_acc, test_epoch, test_avg_acc, test_avg_loss, test_avg_indi_acc = create_data(fname, end_data,is_10K, smooth_nbr=smooth_nbr)\n",
    "\n",
    "create_figure(train_epoch, train_avg_acc, train_avg_loss, train_avg_indi_acc, test_epoch, test_avg_acc, test_avg_loss, test_avg_indi_acc,name=figure_name, is_10K=is_10K)"
   ]
  },
  {
   "cell_type": "code",
   "execution_count": 27,
   "metadata": {
    "collapsed": false
   },
   "outputs": [],
   "source": [
    "def extract_results(fname, end_data_data, is_10k):\n",
    "    \n",
    "    \n",
    "    if(is_10K):\n",
    "        duplicate = 3\n",
    "    else:\n",
    "        duplicate = 1\n",
    "    train_name = (('EDMN-theano/output_data/train_babi%s.csv' %fname))\n",
    "    test_name = (('EDMN-theano/output_data/test_babi%s.csv' %fname))\n",
    "    with open(train_name) as f:\n",
    "        reader = csv.reader(f)\n",
    "        i=0\n",
    "        for l in reader:\n",
    "            i = i + 1\n",
    "            if(len(l)>=6):\n",
    "                e = float(l.pop(0))\n",
    "                if(e<=end_data):# and i%10==0):\n",
    "                    train_epoch.append(e*10000 + float(l.pop(0)))\n",
    "                    train_cu_loss.append(l.pop(0))\n",
    "                    avg_l = float(l.pop(0))\n",
    "                    train_avg_loss.append(avg_l)\n",
    "                    train_cu_acc.append(l.pop(0)) #softacc_cu\n",
    "                    train_avg_acc.append(l.pop(0)) #avg_soft_acc\n",
    "                    temp = l.pop(0)\n",
    "                    train_avg_hard_acc.append(train_cu_acc[-1])\n",
    "                    train_avg_indi_acc.append(l.pop(0))\n",
    "    with open(test_name) as f:\n",
    "        reader = csv.reader(f)\n",
    "        for l in reader:\n",
    "            if(len(l)>=6):\n",
    "                t = float(l.pop(0))\n",
    "                if(t<=end_data):\n",
    "                    temp = []\n",
    "                    temp.append(l.pop(0))\n",
    "                    temp.append(l.pop(0))\n",
    "                    temp.append(l.pop(0))\n",
    "                    temp.append(l.pop(0))\n",
    "                    temp.append(l.pop(0))\n",
    "                    temp.append(l.pop(0))\n",
    "                    temp.append(l.pop(0))\n",
    "                    for i in range(0,duplicate):\n",
    "                        test_epoch.append(t*1000 + float(temp[0]))\n",
    "                        test_cu_loss.append(temp[1])\n",
    "                        test_avg_loss.append(temp[2])\n",
    "                        test_cu_acc.append(temp[3])\n",
    "                        test_avg_acc.append(temp[4])\n",
    "                        test_avg_hard_acc.append(temp[3])\n",
    "                        test_avg_indi_acc.append(temp[6])\n",
    "    return train_epoch, train_avg_acc, train_avg_loss, train_avg_indi_acc, test_epoch, test_avg_acc, test_avg_loss, test_avg_indi_acc"
   ]
  },
  {
   "cell_type": "code",
   "execution_count": 12,
   "metadata": {
    "collapsed": false
   },
   "outputs": [],
   "source": [
    "import csv\n",
    "def create_data(fname, end_data,is_10k, smooth_nbr=1):\n",
    "\n",
    "    train_epoch, train_avg_acc, train_avg_loss, train_avg_indi_acc, test_epoch, test_avg_acc, test_avg_loss, test_avg_indi_acc = extract_results(fname, end_data, is_10K)\n",
    "    \n",
    "    test_avg_acc = test_avg_acc[0:len(train_avg_acc)]\n",
    "    test_avg_loss = test_avg_loss[0:len(train_avg_loss)]\n",
    "\n",
    "    train_avg_acc = smoother(train_avg_acc, smooth_nbr)[:len(train_avg_acc) - smooth_nbr]\n",
    "    test_avg_acc = smoother(test_avg_acc, smooth_nbr)[:len(test_avg_acc) - smooth_nbr]\n",
    "    train_avg_loss = smoother(train_avg_loss, smooth_nbr)[:len(train_avg_loss) - smooth_nbr]\n",
    "    test_avg_loss = smoother(test_avg_loss, smooth_nbr)[:len(test_avg_loss) - smooth_nbr]\n",
    "    train_epoch = train_epoch[:len(train_epoch) - smooth_nbr]\n",
    "    \n",
    "    #train_avg_indi_acc\n",
    "    \n",
    "\n",
    "    return train_epoch, train_avg_acc, train_avg_loss, train_avg_indi_acc, test_epoch, test_avg_acc, test_avg_loss, test_avg_indi_acc"
   ]
  },
  {
   "cell_type": "code",
   "execution_count": 13,
   "metadata": {
    "collapsed": false
   },
   "outputs": [],
   "source": [
    "def create_figure(train_epoch, train_avg_acc, train_avg_loss, train_avg_indi_acc, test_epoch, test_avg_acc, test_avg_loss, test_avg_indi_acc, name='', is_10K=False):\n",
    "    plt.figure()\n",
    "    \n",
    "    \n",
    "\n",
    "    plt.plot(train_epoch, train_avg_acc, label=\"training accuracy\")\n",
    "    plt.plot(train_epoch, test_avg_acc, label=\"testing accuracy\")\n",
    "    plt.legend()\n",
    "    plt.xlabel(\"step number\")\n",
    "    plt.ylabel(\"average accuracy\")\n",
    "    if(is_10K):\n",
    "        plt.title(\"Evolution of training and testing accuracy over time (10k)\")\n",
    "    else:\n",
    "        plt.title(\"Evolution of training and testing accuracy over time\")\n",
    "    temp = ('results/avg_acc_%s.jpg' %name)\n",
    "    plt.savefig(temp)\n",
    "\n",
    "\n",
    "    plt.figure()\n",
    "\n",
    "    plt.plot(train_epoch, train_avg_loss, label=\"training loss\")\n",
    "    plt.plot(train_epoch, test_avg_loss, label=\"testing loss\")\n",
    "    plt.legend()\n",
    "    plt.xlabel(\"step number\")\n",
    "    plt.ylabel(\"average loss\")\n",
    "    if(is_10K):\n",
    "        plt.title(\"Evolution of training and testing loss over time (10k)\")\n",
    "    else:\n",
    "        plt.title(\"Evolution of training and testing loss over time\")\n",
    "    temp = ('results/avg_loss_%s.jpg' %name)\n",
    "    plt.savefig(temp)"
   ]
  },
  {
   "cell_type": "code",
   "execution_count": 8,
   "metadata": {
    "collapsed": false,
    "scrolled": true
   },
   "outputs": [],
   "source": [
    "def smoother(l, nbr=2):\n",
    "    new_l = l\n",
    "    for i in range(0,np.shape(l)[0]-nbr+1):\n",
    "        new_l[i] = float(l[i])\n",
    "        for j in range(1, nbr):\n",
    "            new_l[i] = new_l[i] + float(l[i+j])\n",
    "        new_l[i] = new_l[i]/nbr\n",
    "    return new_l"
   ]
  },
  {
   "cell_type": "code",
   "execution_count": null,
   "metadata": {
    "collapsed": false
   },
   "outputs": [],
   "source": []
  },
  {
   "cell_type": "code",
   "execution_count": null,
   "metadata": {
    "collapsed": false,
    "scrolled": true
   },
   "outputs": [],
   "source": []
  },
  {
   "cell_type": "code",
   "execution_count": null,
   "metadata": {
    "collapsed": false
   },
   "outputs": [],
   "source": []
  }
 ],
 "metadata": {
  "anaconda-cloud": {},
  "kernelspec": {
   "display_name": "Python 3",
   "language": "python",
   "name": "python3"
  },
  "language_info": {
   "codemirror_mode": {
    "name": "ipython",
    "version": 3
   },
   "file_extension": ".py",
   "mimetype": "text/x-python",
   "name": "python",
   "nbconvert_exporter": "python",
   "pygments_lexer": "ipython3",
   "version": "3.6.0"
  }
 },
 "nbformat": 4,
 "nbformat_minor": 0
}
